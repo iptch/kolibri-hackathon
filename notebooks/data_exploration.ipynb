{
 "cells": [
  {
   "cell_type": "code",
   "execution_count": null,
   "id": "5a50eda1-199f-41e6-86ee-6c91a363301e",
   "metadata": {
    "tags": []
   },
   "outputs": [],
   "source": [
    "from context import kolihack\n",
    "%load_ext autoreload\n",
    "%autoreload 2"
   ]
  },
  {
   "cell_type": "code",
   "execution_count": null,
   "id": "7a128a72-e80b-4ad7-8e5d-05bedfa04b3c",
   "metadata": {
    "tags": []
   },
   "outputs": [],
   "source": [
    "import pandas as pd\n",
    "\n",
    "from kolihack.io import load_content_file"
   ]
  },
  {
   "cell_type": "code",
   "execution_count": null,
   "id": "7612aa74-395b-408c-abe0-bc75c761f7ab",
   "metadata": {
    "tags": []
   },
   "outputs": [],
   "source": [
    "df = load_content_file()"
   ]
  },
  {
   "cell_type": "code",
   "execution_count": null,
   "id": "4fda6bed-5885-4f94-962c-9f31f7549f3c",
   "metadata": {
    "tags": []
   },
   "outputs": [],
   "source": [
    "df.describe()"
   ]
  },
  {
   "cell_type": "code",
   "execution_count": null,
   "id": "2550172c-0d9f-4cfb-bbab-4c9f3d779107",
   "metadata": {
    "tags": []
   },
   "outputs": [],
   "source": [
    "df"
   ]
  }
 ],
 "metadata": {
  "kernelspec": {
   "display_name": "Python 3 (ipykernel)",
   "language": "python",
   "name": "python3"
  },
  "language_info": {
   "codemirror_mode": {
    "name": "ipython",
    "version": 3
   },
   "file_extension": ".py",
   "mimetype": "text/x-python",
   "name": "python",
   "nbconvert_exporter": "python",
   "pygments_lexer": "ipython3",
   "version": "3.10.6"
  }
 },
 "nbformat": 4,
 "nbformat_minor": 5
}
