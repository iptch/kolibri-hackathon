{
 "cells": [
  {
   "cell_type": "code",
   "execution_count": 19,
   "id": "5a50eda1-199f-41e6-86ee-6c91a363301e",
   "metadata": {
    "tags": []
   },
   "outputs": [
    {
     "name": "stdout",
     "output_type": "stream",
     "text": [
      "The autoreload extension is already loaded. To reload it, use:\n",
      "  %reload_ext autoreload\n"
     ]
    }
   ],
   "source": [
    "from torch.utils.data import DataLoader\n",
    "from tqdm import tqdm\n",
    "\n",
    "from context import kolihack\n",
    "%load_ext autoreload\n",
    "%autoreload 2"
   ]
  },
  {
   "cell_type": "code",
   "execution_count": 20,
   "id": "7a128a72-e80b-4ad7-8e5d-05bedfa04b3c",
   "metadata": {
    "tags": []
   },
   "outputs": [],
   "source": [
    "import pandas as pd\n",
    "\n",
    "from kolihack.io import load_content_file"
   ]
  },
  {
   "cell_type": "markdown",
   "source": [],
   "metadata": {
    "collapsed": false
   }
  },
  {
   "cell_type": "code",
   "execution_count": 21,
   "id": "7612aa74-395b-408c-abe0-bc75c761f7ab",
   "metadata": {
    "tags": []
   },
   "outputs": [
    {
     "name": "stdout",
     "output_type": "stream",
     "text": [
      "Successfully loaded pandas data frame from C:\\Users\\jenni\\workspace\\kolihack\\data/content.csv\n"
     ]
    }
   ],
   "source": [
    "df = load_content_file()"
   ]
  },
  {
   "cell_type": "code",
   "execution_count": 22,
   "id": "4fda6bed-5885-4f94-962c-9f31f7549f3c",
   "metadata": {
    "tags": []
   },
   "outputs": [
    {
     "data": {
      "text/plain": "                    id   title description    kind   \ncount           154047  154038       89456  154047  \\\nunique          154047  130937       76305       5   \ntop     c_00002381196d   Video        v0.1   video   \nfreq                 1     504         903   61487   \n\n                                                     text language   \ncount                                               74035   154047  \\\nunique                                              70687       27   \ntop     Unsupported browser\\n\\nThe HTML5 content is no...       en   \nfreq                                                  234    65939   \n\n       copyright_holder      license  \ncount             71821        74035  \nunique              148            7  \ntop        Khan Academy  CC BY-NC-SA  \nfreq              17034        52088  ",
      "text/html": "<div>\n<style scoped>\n    .dataframe tbody tr th:only-of-type {\n        vertical-align: middle;\n    }\n\n    .dataframe tbody tr th {\n        vertical-align: top;\n    }\n\n    .dataframe thead th {\n        text-align: right;\n    }\n</style>\n<table border=\"1\" class=\"dataframe\">\n  <thead>\n    <tr style=\"text-align: right;\">\n      <th></th>\n      <th>id</th>\n      <th>title</th>\n      <th>description</th>\n      <th>kind</th>\n      <th>text</th>\n      <th>language</th>\n      <th>copyright_holder</th>\n      <th>license</th>\n    </tr>\n  </thead>\n  <tbody>\n    <tr>\n      <th>count</th>\n      <td>154047</td>\n      <td>154038</td>\n      <td>89456</td>\n      <td>154047</td>\n      <td>74035</td>\n      <td>154047</td>\n      <td>71821</td>\n      <td>74035</td>\n    </tr>\n    <tr>\n      <th>unique</th>\n      <td>154047</td>\n      <td>130937</td>\n      <td>76305</td>\n      <td>5</td>\n      <td>70687</td>\n      <td>27</td>\n      <td>148</td>\n      <td>7</td>\n    </tr>\n    <tr>\n      <th>top</th>\n      <td>c_00002381196d</td>\n      <td>Video</td>\n      <td>v0.1</td>\n      <td>video</td>\n      <td>Unsupported browser\\n\\nThe HTML5 content is no...</td>\n      <td>en</td>\n      <td>Khan Academy</td>\n      <td>CC BY-NC-SA</td>\n    </tr>\n    <tr>\n      <th>freq</th>\n      <td>1</td>\n      <td>504</td>\n      <td>903</td>\n      <td>61487</td>\n      <td>234</td>\n      <td>65939</td>\n      <td>17034</td>\n      <td>52088</td>\n    </tr>\n  </tbody>\n</table>\n</div>"
     },
     "execution_count": 22,
     "metadata": {},
     "output_type": "execute_result"
    }
   ],
   "source": [
    "df.describe()"
   ]
  },
  {
   "cell_type": "code",
   "execution_count": 23,
   "id": "2550172c-0d9f-4cfb-bbab-4c9f3d779107",
   "metadata": {
    "tags": []
   },
   "outputs": [
    {
     "data": {
      "text/plain": "                    id                                             title   \n0       c_00002381196d  Sumar números de varios dígitos: 48,029+233,930   \\\n1       c_000087304a9e                    Trovare i fattori di un numero   \n2       c_0000ad142ddb                           Sumar curvas de demanda   \n3       c_0000c03adc8d                               Nado de aproximação   \n4       c_00016694ea2a                  geometry-m3-topic-a-overview.pdf   \n...                ...                                               ...   \n154042  c_fffcbdd4de8b                                  2. 12: Diffusion   \n154043  c_fffe15a2d069                      Sommare facendo gruppi da 10   \n154044  c_fffed7b0d13a                            Introdução à subtração   \n154045  c_ffff04ba7ac7                                      SA of a Cone   \n154046  c_ffffe5254266                                          The Jats   \n\n                                              description      kind   \n0       Suma 48,029+233,930 mediante el algoritmo está...     video  \\\n1                         Sal trova i fattori di 120.\\n\\n     video   \n2                       Cómo añadir curvas de demanda\\n\\n     video   \n3       Neste vídeo você vai aprender o nado de aproxi...  document   \n4                        geometry-m3-topic-a-overview.pdf  document   \n...                                                   ...       ...   \n154042                                                NaN     html5   \n154043  Sal somma 5+68 spezzando il 5 in un 2 e un 3.\\n\\n     video   \n154044  Sal fala sobre o que significa subtrair. Os ex...     video   \n154045                                                NaN     video   \n154046                                                NaN     video   \n\n                                                     text language   \n0                                                     NaN       es  \\\n1                                                     NaN       it   \n2                                                     NaN       es   \n3       \\nNado de aproximação\\nSaber nadar nas ondas ...       pt   \n4       Estándares Comunes del Estado de Nueva York\\n\\...       es   \n...                                                   ...      ...   \n154042  What will eventually happen to these dyes?\\n\\n...       en   \n154043                                                NaN       it   \n154044                                                NaN       pt   \n154045                                                NaN       en   \n154046                                                NaN       en   \n\n        copyright_holder      license  \n0                    NaN          NaN  \n1                    NaN          NaN  \n2                    NaN          NaN  \n3       Sikana Education  CC BY-NC-ND  \n4              Engage NY  CC BY-NC-SA  \n...                  ...          ...  \n154042    CSU and Merlot  CC BY-NC-SA  \n154043               NaN          NaN  \n154044               NaN          NaN  \n154045               NaN          NaN  \n154046               NaN          NaN  \n\n[154047 rows x 8 columns]",
      "text/html": "<div>\n<style scoped>\n    .dataframe tbody tr th:only-of-type {\n        vertical-align: middle;\n    }\n\n    .dataframe tbody tr th {\n        vertical-align: top;\n    }\n\n    .dataframe thead th {\n        text-align: right;\n    }\n</style>\n<table border=\"1\" class=\"dataframe\">\n  <thead>\n    <tr style=\"text-align: right;\">\n      <th></th>\n      <th>id</th>\n      <th>title</th>\n      <th>description</th>\n      <th>kind</th>\n      <th>text</th>\n      <th>language</th>\n      <th>copyright_holder</th>\n      <th>license</th>\n    </tr>\n  </thead>\n  <tbody>\n    <tr>\n      <th>0</th>\n      <td>c_00002381196d</td>\n      <td>Sumar números de varios dígitos: 48,029+233,930</td>\n      <td>Suma 48,029+233,930 mediante el algoritmo está...</td>\n      <td>video</td>\n      <td>NaN</td>\n      <td>es</td>\n      <td>NaN</td>\n      <td>NaN</td>\n    </tr>\n    <tr>\n      <th>1</th>\n      <td>c_000087304a9e</td>\n      <td>Trovare i fattori di un numero</td>\n      <td>Sal trova i fattori di 120.\\n\\n</td>\n      <td>video</td>\n      <td>NaN</td>\n      <td>it</td>\n      <td>NaN</td>\n      <td>NaN</td>\n    </tr>\n    <tr>\n      <th>2</th>\n      <td>c_0000ad142ddb</td>\n      <td>Sumar curvas de demanda</td>\n      <td>Cómo añadir curvas de demanda\\n\\n</td>\n      <td>video</td>\n      <td>NaN</td>\n      <td>es</td>\n      <td>NaN</td>\n      <td>NaN</td>\n    </tr>\n    <tr>\n      <th>3</th>\n      <td>c_0000c03adc8d</td>\n      <td>Nado de aproximação</td>\n      <td>Neste vídeo você vai aprender o nado de aproxi...</td>\n      <td>document</td>\n      <td>\\nNado de aproximação\\nSaber nadar nas ondas ...</td>\n      <td>pt</td>\n      <td>Sikana Education</td>\n      <td>CC BY-NC-ND</td>\n    </tr>\n    <tr>\n      <th>4</th>\n      <td>c_00016694ea2a</td>\n      <td>geometry-m3-topic-a-overview.pdf</td>\n      <td>geometry-m3-topic-a-overview.pdf</td>\n      <td>document</td>\n      <td>Estándares Comunes del Estado de Nueva York\\n\\...</td>\n      <td>es</td>\n      <td>Engage NY</td>\n      <td>CC BY-NC-SA</td>\n    </tr>\n    <tr>\n      <th>...</th>\n      <td>...</td>\n      <td>...</td>\n      <td>...</td>\n      <td>...</td>\n      <td>...</td>\n      <td>...</td>\n      <td>...</td>\n      <td>...</td>\n    </tr>\n    <tr>\n      <th>154042</th>\n      <td>c_fffcbdd4de8b</td>\n      <td>2. 12: Diffusion</td>\n      <td>NaN</td>\n      <td>html5</td>\n      <td>What will eventually happen to these dyes?\\n\\n...</td>\n      <td>en</td>\n      <td>CSU and Merlot</td>\n      <td>CC BY-NC-SA</td>\n    </tr>\n    <tr>\n      <th>154043</th>\n      <td>c_fffe15a2d069</td>\n      <td>Sommare facendo gruppi da 10</td>\n      <td>Sal somma 5+68 spezzando il 5 in un 2 e un 3.\\n\\n</td>\n      <td>video</td>\n      <td>NaN</td>\n      <td>it</td>\n      <td>NaN</td>\n      <td>NaN</td>\n    </tr>\n    <tr>\n      <th>154044</th>\n      <td>c_fffed7b0d13a</td>\n      <td>Introdução à subtração</td>\n      <td>Sal fala sobre o que significa subtrair. Os ex...</td>\n      <td>video</td>\n      <td>NaN</td>\n      <td>pt</td>\n      <td>NaN</td>\n      <td>NaN</td>\n    </tr>\n    <tr>\n      <th>154045</th>\n      <td>c_ffff04ba7ac7</td>\n      <td>SA of a Cone</td>\n      <td>NaN</td>\n      <td>video</td>\n      <td>NaN</td>\n      <td>en</td>\n      <td>NaN</td>\n      <td>NaN</td>\n    </tr>\n    <tr>\n      <th>154046</th>\n      <td>c_ffffe5254266</td>\n      <td>The Jats</td>\n      <td>NaN</td>\n      <td>video</td>\n      <td>NaN</td>\n      <td>en</td>\n      <td>NaN</td>\n      <td>NaN</td>\n    </tr>\n  </tbody>\n</table>\n<p>154047 rows × 8 columns</p>\n</div>"
     },
     "execution_count": 23,
     "metadata": {},
     "output_type": "execute_result"
    }
   ],
   "source": [
    "df"
   ]
  },
  {
   "cell_type": "code",
   "execution_count": 24,
   "outputs": [],
   "source": [
    "t1 = \"Concentration within the economy is increasing\"\n",
    "t2 = \"Fortune 500 companies represent 2/3 of US GDP\"\n",
    "t3 = \"The US economy is more concentrated within major firms\"\n",
    "t4 = \"Adoption of machine learning is increasing at many companies\"\n",
    "t5 = \"Firms are building more AI products\""
   ],
   "metadata": {
    "collapsed": false
   }
  },
  {
   "cell_type": "code",
   "execution_count": 25,
   "outputs": [],
   "source": [
    "import numpy as np\n",
    "from transformers import pipeline\n",
    "from sklearn.metrics.pairwise import cosine_similarity"
   ],
   "metadata": {
    "collapsed": false
   }
  },
  {
   "cell_type": "code",
   "execution_count": 26,
   "outputs": [],
   "source": [
    "def normalized_mean_pooling(token_vectors):\n",
    "    sentences_vectors = [np.mean(tokens, axis=0) for tokens in token_vectors]\n",
    "    normalized_embeddings = [vector / np.linalg.norm(vector) \\\n",
    "                    for vector in sentences_vectors]\n",
    "    return normalized_embeddings\n"
   ],
   "metadata": {
    "collapsed": false
   }
  },
  {
   "cell_type": "code",
   "execution_count": 27,
   "outputs": [],
   "source": [
    "\n",
    "def encoder(texts, modelname):\n",
    "    '''\n",
    "    Use huggingface pipeline class to get vector embeddings for each token,\n",
    "    then take the mean across tokens to get one vector embbedding per text\n",
    "    '''\n",
    "    pipe = pipeline(\"feature-extraction\",\n",
    "                   model=modelname,\n",
    "                   tokenizer=modelname)\n",
    "\n",
    "    embeddings = []\n",
    "    loader = DataLoader(texts, batch_size=32, shuffle=False)\n",
    "    for inputs in tqdm(loader):\n",
    "        vectors = pipe(inputs)\n",
    "        vectors = [np.vstack(item) for item in vectors]\n",
    "        embs = normalized_mean_pooling(vectors)\n",
    "        embeddings.extend(embs)\n",
    "    return embeddings\n"
   ],
   "metadata": {
    "collapsed": false
   }
  },
  {
   "cell_type": "markdown",
   "source": [],
   "metadata": {
    "collapsed": false
   }
  },
  {
   "cell_type": "code",
   "execution_count": 48,
   "outputs": [
    {
     "name": "stderr",
     "output_type": "stream",
     "text": [
      "pydev debugger: Unable to find real location for: C:\\Users\\jenni\\AppData\\Local\\Temp\\ipykernel_11504\\155152298.py\n"
     ]
    }
   ],
   "source": [
    "description_ = df['description']\n",
    "non_nan_descriptions = description_.dropna(ignore_index=True)"
   ],
   "metadata": {
    "collapsed": false
   }
  },
  {
   "cell_type": "code",
   "execution_count": 49,
   "outputs": [
    {
     "name": "stderr",
     "output_type": "stream",
     "text": [
      "Some weights of the model checkpoint at bert-base-uncased were not used when initializing BertModel: ['cls.predictions.decoder.weight', 'cls.seq_relationship.weight', 'cls.predictions.transform.dense.weight', 'cls.predictions.transform.dense.bias', 'cls.predictions.bias', 'cls.predictions.transform.LayerNorm.weight', 'cls.predictions.transform.LayerNorm.bias', 'cls.seq_relationship.bias']\n",
      "- This IS expected if you are initializing BertModel from the checkpoint of a model trained on another task or with another architecture (e.g. initializing a BertForSequenceClassification model from a BertForPreTraining model).\n",
      "- This IS NOT expected if you are initializing BertModel from the checkpoint of a model that you expect to be exactly identical (initializing a BertForSequenceClassification model from a BertForSequenceClassification model).\n",
      "100%|██████████| 1/1 [00:01<00:00,  1.07s/it]\n"
     ]
    }
   ],
   "source": [
    "non_nan_descriptions = non_nan_descriptions[0:10]\n",
    "input_embedding = encoder(non_nan_descriptions, \"bert-base-uncased\")"
   ],
   "metadata": {
    "collapsed": false
   }
  },
  {
   "cell_type": "code",
   "execution_count": 51,
   "outputs": [
    {
     "name": "stderr",
     "output_type": "stream",
     "text": [
      "pydev debugger: Unable to find real location for: C:\\Users\\jenni\\AppData\\Local\\Temp\\ipykernel_11504\\1515378759.py\n",
      "pydev debugger: Unable to find real location for: C:\\Users\\jenni\\AppData\\Local\\Temp\\ipykernel_11504\\522604472.py\n"
     ]
    }
   ],
   "source": [
    "df_i = pd.DataFrame({'description': input_embedding})\n",
    "df_i.to_csv('input_embeddings.csv')"
   ],
   "metadata": {
    "collapsed": false
   }
  },
  {
   "cell_type": "code",
   "execution_count": 53,
   "outputs": [
    {
     "name": "stderr",
     "output_type": "stream",
     "text": [
      "pydev debugger: Unable to find real location for: C:\\Users\\jenni\\AppData\\Local\\Temp\\ipykernel_11504\\4031721847.py\n",
      "Some weights of the model checkpoint at bert-base-uncased were not used when initializing BertModel: ['cls.predictions.decoder.weight', 'cls.seq_relationship.weight', 'cls.predictions.transform.dense.weight', 'cls.predictions.transform.dense.bias', 'cls.predictions.bias', 'cls.predictions.transform.LayerNorm.weight', 'cls.predictions.transform.LayerNorm.bias', 'cls.seq_relationship.bias']\n",
      "- This IS expected if you are initializing BertModel from the checkpoint of a model trained on another task or with another architecture (e.g. initializing a BertForSequenceClassification model from a BertForPreTraining model).\n",
      "- This IS NOT expected if you are initializing BertModel from the checkpoint of a model that you expect to be exactly identical (initializing a BertForSequenceClassification model from a BertForSequenceClassification model).\n",
      "100%|██████████| 1/1 [00:00<00:00,  9.14it/s]\n"
     ]
    },
    {
     "name": "stdout",
     "output_type": "stream",
     "text": [
      "[[0.78164127]\n",
      " [0.53997634]\n",
      " [1.        ]\n",
      " [0.57507046]\n",
      " [0.35939738]\n",
      " [0.32642676]\n",
      " [0.82206537]\n",
      " [0.38561224]\n",
      " [0.246483  ]\n",
      " [0.28875162]]\n"
     ]
    }
   ],
   "source": [
    "# question = \"¿qué son las curvas de demanda?\"\n",
    "question = \"Cómo añadir curvas de demanda\\n\\n\"\n",
    "\n",
    "question_embedding = encoder([question], \"bert-base-uncased\")\n",
    "\n",
    "similarities_bert = cosine_similarity(input_embedding, question_embedding)\n",
    "\n",
    "print(similarities_bert)\n",
    "t = \"*4\""
   ],
   "metadata": {
    "collapsed": false
   }
  }
 ],
 "metadata": {
  "kernelspec": {
   "display_name": "Python 3 (ipykernel)",
   "language": "python",
   "name": "python3"
  },
  "language_info": {
   "codemirror_mode": {
    "name": "ipython",
    "version": 3
   },
   "file_extension": ".py",
   "mimetype": "text/x-python",
   "name": "python",
   "nbconvert_exporter": "python",
   "pygments_lexer": "ipython3",
   "version": "3.11.3"
  }
 },
 "nbformat": 4,
 "nbformat_minor": 5
}
