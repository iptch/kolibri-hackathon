{
 "cells": [
  {
   "cell_type": "code",
   "execution_count": null,
   "id": "5a50eda1-199f-41e6-86ee-6c91a363301e",
   "metadata": {
    "tags": []
   },
   "outputs": [],
   "source": [
    "from context import kolihack"
   ]
  },
  {
   "cell_type": "code",
   "execution_count": null,
   "id": "7a128a72-e80b-4ad7-8e5d-05bedfa04b3c",
   "metadata": {
    "tags": []
   },
   "outputs": [],
   "source": [
    "kolihack.io.hi()"
   ]
  }
 ],
 "metadata": {
  "kernelspec": {
   "display_name": "Python 3 (ipykernel)",
   "language": "python",
   "name": "python3"
  },
  "language_info": {
   "codemirror_mode": {
    "name": "ipython",
    "version": 3
   },
   "file_extension": ".py",
   "mimetype": "text/x-python",
   "name": "python",
   "nbconvert_exporter": "python",
   "pygments_lexer": "ipython3",
   "version": "3.10.6"
  }
 },
 "nbformat": 4,
 "nbformat_minor": 5
}
